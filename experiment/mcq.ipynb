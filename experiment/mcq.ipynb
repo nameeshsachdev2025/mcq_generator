{
 "cells": [
  {
   "cell_type": "code",
   "execution_count": 29,
   "id": "8adb2fc7",
   "metadata": {},
   "outputs": [],
   "source": [
    "import os \n",
    "import json\n",
    "import pandas as pd\n",
    "import traceback\n",
    "#python dotenv helps in creating variable from .env to env variable\n"
   ]
  },
  {
   "cell_type": "code",
   "execution_count": 99,
   "id": "f9007b2d",
   "metadata": {},
   "outputs": [],
   "source": [
    "from dotenv import load_dotenv\n",
    "load_dotenv()\n",
    "key=os.getenv(\"myKey\")\n"
   ]
  },
  {
   "cell_type": "code",
   "execution_count": 52,
   "id": "95b3cd58",
   "metadata": {},
   "outputs": [],
   "source": [
    "from langchain_groq import ChatGroq\n",
    "llm=ChatGroq(\n",
    "    api_key=key,\n",
    "    model=\"llama-3.3-70b-versatile\",\n",
    "    temperature=0.5\n",
    ")"
   ]
  },
  {
   "cell_type": "code",
   "execution_count": 32,
   "id": "57a89f59",
   "metadata": {},
   "outputs": [],
   "source": [
    "from langchain.prompts import PromptTemplate\n",
    "from langchain.chains import LLMChain,SequentialChain\n",
    "import PyPDF2\n",
    "\n"
   ]
  },
  {
   "cell_type": "code",
   "execution_count": 74,
   "id": "17081ccd",
   "metadata": {},
   "outputs": [],
   "source": [
    "response_json = {\n",
    "    \"1\": {\n",
    "        \"mcq\": \"multiple choice question\",\n",
    "        \"options\": {\n",
    "            \"a\": \"choice here\",\n",
    "            \"b\": \"choice here\",\n",
    "            \"c\": \"choice here\",\n",
    "            \"d\": \"choice here\"\n",
    "        },\n",
    "        \"correct\": \"correct answer\"\n",
    "    },\n",
    "    \"2\": {\n",
    "    \"mcq\": \"multiple choice question\",\n",
    "    \"options\": {\n",
    "      \"a\": \"choice here\",\n",
    "      \"b\": \"choice here\",\n",
    "      \"c\": \"choice here\",\n",
    "      \"d\": \"choice here\"\n",
    "    },\n",
    "    \"correct\": \"correct answer\"\n",
    "  },\n",
    "  \"3\": {\n",
    "    \"mcq\": \"multiple choice question\",\n",
    "    \"options\": {\n",
    "      \"a\": \"choice here\",\n",
    "      \"b\": \"choice here\",\n",
    "      \"c\": \"choice here\",\n",
    "      \"d\": \"choice here\"\n",
    "    },\n",
    "    \"correct\": \"correct answer\"\n",
    "  }\n",
    "}\n",
    "\n"
   ]
  },
  {
   "cell_type": "code",
   "execution_count": 75,
   "id": "4f18867d",
   "metadata": {},
   "outputs": [],
   "source": [
    "TEMPLATE = \"\"\"\n",
    "Text: {text}\n",
    "\n",
    "You are an expert MCQ creator. From the above text, create {number} multiple-choice questions for the subject {subject}, written in a {tone} tone.  \n",
    "- Questions must be unique and aligned with the text.  \n",
    "- Use the response_json format as a guide.  \n",
    "- Output exactly {number} questions.  \n",
    "\n",
    "### response_json\n",
    "{response_json}\n",
    "\"\"\"\n"
   ]
  },
  {
   "cell_type": "code",
   "execution_count": 76,
   "id": "3b65ef97",
   "metadata": {},
   "outputs": [],
   "source": [
    "quiz_generation_prompt=PromptTemplate(\n",
    "    input_variables=['text','number','subject','tone','response_json'],\n",
    "    template=TEMPLATE\n",
    ")"
   ]
  },
  {
   "cell_type": "code",
   "execution_count": 77,
   "id": "84a05acb",
   "metadata": {},
   "outputs": [],
   "source": [
    "quiz_chain=LLMChain(llm=llm,prompt=quiz_generation_prompt,output_key=\"quiz\",verbose=True)"
   ]
  },
  {
   "cell_type": "code",
   "execution_count": null,
   "id": "5214f206",
   "metadata": {},
   "outputs": [],
   "source": [
    "Template2 = \"\"\"\n",
    "You are an English grammarian and writer. Given a multiple-choice quiz for {subject},  \n",
    "- Evaluate the question complexity in exactly 50 words.  \n",
    "- If questions do not match student abilities, revise them and adjust the tone appropriately.  \n",
    "\n",
    "Quiz_MCQ:\n",
    "{quiz}\n",
    "\n",
    "Provide expert feedback and improvements:\n",
    "\"\"\"\n"
   ]
  },
  {
   "cell_type": "code",
   "execution_count": 78,
   "id": "2cdd0f7f",
   "metadata": {},
   "outputs": [],
   "source": [
    "quiz_evaluation_prompt=PromptTemplate(input_variables=[\"subject\",\"quiz\"],template=Template2)\n",
    "review_chain=LLMChain(llm=llm,prompt=quiz_evaluation_prompt,output_key=\"review\",verbose=True)"
   ]
  },
  {
   "cell_type": "code",
   "execution_count": 80,
   "id": "52316721",
   "metadata": {},
   "outputs": [],
   "source": [
    "\n",
    "\n",
    "generate_evaluation_chain = SequentialChain(\n",
    "    chains=[quiz_chain, review_chain],  \n",
    "    input_variables=['text','number','subject','tone','response_json'],\n",
    "    output_variables=['quiz','review'],\n",
    "    verbose=True\n",
    ")\n"
   ]
  },
  {
   "cell_type": "code",
   "execution_count": 64,
   "id": "bb96f3d8",
   "metadata": {},
   "outputs": [],
   "source": [
    "with open('/Users/nameesh/mcq_generator/experiment/data.txt','r')as file:\n",
    "    Text=file.read()"
   ]
  },
  {
   "cell_type": "code",
   "execution_count": 25,
   "id": "dc73cbb2",
   "metadata": {},
   "outputs": [
    {
     "data": {
      "text/plain": [
       "'{\"1\": {\"mcq\": \"multiple choice question\", \"options\": {\"a\": \"choice here\", \"b\": \"choice here\", \"c\": \"choice here\", \"d\": \"choice here\"}, \"correct\": \"correct answer\"}, \"2\": {\"mcq\": \"multiple choice question\", \"options\": {\"a\": \"choice here\", \"b\": \"choice here\", \"c\": \"choice here\", \"d\": \"choice here\"}, \"correct\": \"correct answer\"}, \"3\": {\"mcq\": \"multiple choice question\", \"options\": {\"a\": \"choice here\", \"b\": \"choice here\", \"c\": \"choice here\", \"d\": \"choice here\"}, \"correct\": \"correct answer\"}}'"
      ]
     },
     "execution_count": 25,
     "metadata": {},
     "output_type": "execute_result"
    }
   ],
   "source": [
    "#serializing the python dictionary into json-formatted string\n",
    "json.dumps(response_json)"
   ]
  },
  {
   "cell_type": "code",
   "execution_count": 65,
   "id": "5c5712d0",
   "metadata": {},
   "outputs": [
    {
     "name": "stdout",
     "output_type": "stream",
     "text": [
      "Machine Learning (ML) is a branch of artificial intelligence that develops algorithms able to learn from data and generalize to new situations without explicit programming. Grounded in statistics, optimization, and data mining, ML is widely applied in natural language processing, computer vision, speech recognition, medicine, agriculture, and business analytics. Deep learning, a subset of ML using neural networks, has surpassed many traditional approaches in performance and drives much of modern AI progress.\n",
      "\n",
      "Historically, ML traces back to Donald Hebb’s theories of neural structures in 1949 and Arthur Samuel’s checkers program in the 1950s. Research expanded in the 1960s–80s with reinforcement learning, symbolic AI, and early neural networks, but it was the rediscovery of backpropagation in the 1980s that revived interest. By the 1990s, ML became recognized as its own discipline, shifting from symbolic reasoning to data-driven, statistical methods aimed at solving practical problems.\n"
     ]
    }
   ],
   "source": [
    "print(Text)"
   ]
  },
  {
   "cell_type": "code",
   "execution_count": 81,
   "id": "2b57409c",
   "metadata": {},
   "outputs": [
    {
     "name": "stdout",
     "output_type": "stream",
     "text": [
      "\n",
      "\n",
      "\u001b[1m> Entering new SequentialChain chain...\u001b[0m\n",
      "\n",
      "\n",
      "\u001b[1m> Entering new LLMChain chain...\u001b[0m\n",
      "Prompt after formatting:\n",
      "\u001b[32;1m\u001b[1;3m\n",
      "Text: Machine Learning (ML) is a branch of artificial intelligence that develops algorithms able to learn from data and generalize to new situations without explicit programming. Grounded in statistics, optimization, and data mining, ML is widely applied in natural language processing, computer vision, speech recognition, medicine, agriculture, and business analytics. Deep learning, a subset of ML using neural networks, has surpassed many traditional approaches in performance and drives much of modern AI progress.\n",
      "\n",
      "Historically, ML traces back to Donald Hebb’s theories of neural structures in 1949 and Arthur Samuel’s checkers program in the 1950s. Research expanded in the 1960s–80s with reinforcement learning, symbolic AI, and early neural networks, but it was the rediscovery of backpropagation in the 1980s that revived interest. By the 1990s, ML became recognized as its own discipline, shifting from symbolic reasoning to data-driven, statistical methods aimed at solving practical problems.\n",
      "\n",
      "You are an expert MCQ creator. From the above text, create 5 multiple-choice questions for the subject data science, written in a simple tone.  \n",
      "- Questions must be unique and aligned with the text.  \n",
      "- Use the response_json format as a guide.  \n",
      "- Output exactly 5 questions.  \n",
      "\n",
      "### response_json\n",
      "{\"1\": {\"mcq\": \"multiple choice question\", \"options\": {\"a\": \"choice here\", \"b\": \"choice here\", \"c\": \"choice here\", \"d\": \"choice here\"}, \"correct\": \"correct answer\"}, \"2\": {\"mcq\": \"multiple choice question\", \"options\": {\"a\": \"choice here\", \"b\": \"choice here\", \"c\": \"choice here\", \"d\": \"choice here\"}, \"correct\": \"correct answer\"}, \"3\": {\"mcq\": \"multiple choice question\", \"options\": {\"a\": \"choice here\", \"b\": \"choice here\", \"c\": \"choice here\", \"d\": \"choice here\"}, \"correct\": \"correct answer\"}}\n",
      "\u001b[0m\n",
      "\n",
      "\u001b[1m> Finished chain.\u001b[0m\n",
      "\n",
      "\n",
      "\u001b[1m> Entering new LLMChain chain...\u001b[0m\n",
      "Prompt after formatting:\n",
      "\u001b[32;1m\u001b[1;3m\n",
      "You are an English grammarian and writer. Given a multiple-choice quiz for data science,  \n",
      "- Evaluate the question complexity in exactly 50 words.  \n",
      "- If questions do not match student abilities, revise them and adjust the tone appropriately.  \n",
      "\n",
      "Quiz_MCQ:\n",
      "### response_json\n",
      "{\"1\": {\"mcq\": \"What branch of artificial intelligence develops algorithms to learn from data and generalize to new situations?\", \"options\": {\"a\": \"Deep Learning\", \"b\": \"Machine Learning\", \"c\": \"Natural Language Processing\", \"d\": \"Computer Vision\"}, \"correct\": \"b\"}, \n",
      "\"2\": {\"mcq\": \"In which decade did Machine Learning become recognized as its own discipline?\", \"options\": {\"a\": \"1960s\", \"b\": \"1970s\", \"c\": \"1980s\", \"d\": \"1990s\"}, \"correct\": \"d\"}, \n",
      "\"3\": {\"mcq\": \"Who is associated with theories of neural structures in 1949?\", \"options\": {\"a\": \"Arthur Samuel\", \"b\": \"Donald Hebb\", \"c\": \"Alan Turing\", \"d\": \"Marvin Minsky\"}, \"correct\": \"b\"}, \n",
      "\"4\": {\"mcq\": \"What method did the field of Machine Learning shift to by the 1990s?\", \"options\": {\"a\": \"Symbolic reasoning\", \"b\": \"Data-driven, statistical methods\", \"c\": \"Rule-based systems\", \"d\": \"Expert systems\"}, \"correct\": \"b\"}, \n",
      "\"5\": {\"mcq\": \"What is the name of the subset of Machine Learning that uses neural networks and has surpassed many traditional approaches in performance?\", \"options\": {\"a\": \"Reinforcement Learning\", \"b\": \"Deep Learning\", \"c\": \"Natural Language Processing\", \"d\": \"Computer Vision\"}, \"correct\": \"b\"}}\n",
      "\n",
      "Provide expert feedback and improvements:\n",
      "\u001b[0m\n",
      "\n",
      "\u001b[1m> Finished chain.\u001b[0m\n",
      "\n",
      "\u001b[1m> Finished chain.\u001b[0m\n"
     ]
    }
   ],
   "source": [
    "#if we want to see the tokens usage of our model we can use get_openai_callback\n",
    "response=generate_evaluation_chain({\n",
    "    \"text\":Text,\n",
    "    \"number\":5,\n",
    "    \"subject\":'data science',\n",
    "    \"tone\":\"simple\",\n",
    "    \"response_json\":json.dumps(response_json)\n",
    "})"
   ]
  },
  {
   "cell_type": "code",
   "execution_count": 82,
   "id": "9b15b495",
   "metadata": {},
   "outputs": [],
   "source": [
    "quiz=response.get(\"quiz\")"
   ]
  },
  {
   "cell_type": "code",
   "execution_count": 88,
   "id": "1ffd59f3",
   "metadata": {},
   "outputs": [],
   "source": [
    "cleaned = quiz.replace(\"### response_json\", \"\").strip(\"` \\n\")"
   ]
  },
  {
   "cell_type": "code",
   "execution_count": 89,
   "id": "e932cc82",
   "metadata": {},
   "outputs": [],
   "source": [
    "quiz = json.loads(cleaned)"
   ]
  },
  {
   "cell_type": "code",
   "execution_count": null,
   "id": "9d16e7d6",
   "metadata": {},
   "outputs": [
    {
     "data": {
      "text/plain": [
       "{'1': {'mcq': 'What branch of artificial intelligence develops algorithms to learn from data and generalize to new situations?',\n",
       "  'options': {'a': 'Deep Learning',\n",
       "   'b': 'Machine Learning',\n",
       "   'c': 'Natural Language Processing',\n",
       "   'd': 'Computer Vision'},\n",
       "  'correct': 'b'},\n",
       " '2': {'mcq': 'In which decade did Machine Learning become recognized as its own discipline?',\n",
       "  'options': {'a': '1960s', 'b': '1970s', 'c': '1980s', 'd': '1990s'},\n",
       "  'correct': 'd'},\n",
       " '3': {'mcq': 'Who is associated with theories of neural structures in 1949?',\n",
       "  'options': {'a': 'Arthur Samuel',\n",
       "   'b': 'Donald Hebb',\n",
       "   'c': 'Alan Turing',\n",
       "   'd': 'Marvin Minsky'},\n",
       "  'correct': 'b'},\n",
       " '4': {'mcq': 'What method did the field of Machine Learning shift to by the 1990s?',\n",
       "  'options': {'a': 'Symbolic reasoning',\n",
       "   'b': 'Data-driven, statistical methods',\n",
       "   'c': 'Rule-based systems',\n",
       "   'd': 'Expert systems'},\n",
       "  'correct': 'b'},\n",
       " '5': {'mcq': 'What is the name of the subset of Machine Learning that uses neural networks and has surpassed many traditional approaches in performance?',\n",
       "  'options': {'a': 'Reinforcement Learning',\n",
       "   'b': 'Deep Learning',\n",
       "   'c': 'Natural Language Processing',\n",
       "   'd': 'Computer Vision'},\n",
       "  'correct': 'b'}}"
      ]
     },
     "execution_count": 93,
     "metadata": {},
     "output_type": "execute_result"
    }
   ],
   "source": [
    "quiz\n"
   ]
  },
  {
   "cell_type": "code",
   "execution_count": 94,
   "id": "069754ad",
   "metadata": {},
   "outputs": [],
   "source": [
    "#converting data into a list format so that we can convert it into a dataframe\n",
    "quiz_table_data = []\n",
    "for key, values in quiz.items():\n",
    "    mcq = values['mcq']\n",
    "    options = \"|\".join(\n",
    "        [\n",
    "            f\"{option}:{option_value}\"\n",
    "            for option, option_value in values['options'].items()\n",
    "        ]\n",
    "    )\n",
    "    correct = values['correct']\n",
    "    quiz_table_data.append({\"MCQ\": mcq, \"OPTIONS\": options, \"CORRECT\": correct})\n"
   ]
  },
  {
   "cell_type": "code",
   "execution_count": 97,
   "id": "67d05e79",
   "metadata": {},
   "outputs": [],
   "source": [
    "quiz=pd.DataFrame(quiz_table_data)"
   ]
  },
  {
   "cell_type": "code",
   "execution_count": 98,
   "id": "53d12147",
   "metadata": {},
   "outputs": [],
   "source": [
    "quiz.to_csv(\"machine_learning_quiz\",index=False)"
   ]
  },
  {
   "cell_type": "code",
   "execution_count": null,
   "id": "2c4b4c12",
   "metadata": {},
   "outputs": [],
   "source": []
  }
 ],
 "metadata": {
  "kernelspec": {
   "display_name": "Python 3",
   "language": "python",
   "name": "python3"
  },
  "language_info": {
   "codemirror_mode": {
    "name": "ipython",
    "version": 3
   },
   "file_extension": ".py",
   "mimetype": "text/x-python",
   "name": "python",
   "nbconvert_exporter": "python",
   "pygments_lexer": "ipython3",
   "version": "3.11.13"
  }
 },
 "nbformat": 4,
 "nbformat_minor": 5
}
